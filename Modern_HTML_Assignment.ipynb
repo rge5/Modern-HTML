{
  "nbformat": 4,
  "nbformat_minor": 0,
  "metadata": {
    "colab": {
      "provenance": []
    },
    "kernelspec": {
      "name": "python3",
      "display_name": "Python 3"
    },
    "language_info": {
      "name": "python"
    }
  },
  "cells": [
    {
      "cell_type": "markdown",
      "source": [
        "1. List out the features of HTML5.\n",
        "-> Features of html:-\n",
        " * New elements, attributes,and behaviours; supports fr multimedia;better error handling.\n",
        " * New tags like `<article>,<aside>,<figure>`.\n",
        " * Enhanced forms with input types.\n",
        " *built-in audio and video support with `<audio> and <video>`.\n",
        " * Local storage fir offline use.\n",
        " * Graphics and animations with `<canvas> and <svg>`.\n",
        "\n",
        "\n",
        "\n",
        "\n",
        "\n"
      ],
      "metadata": {
        "id": "TpCQZIsmYoON"
      }
    },
    {
      "cell_type": "markdown",
      "source": [
        "2. What are HTML Entities? List out 5 commonly used HTML entities.\n",
        "->HTML entities help display symbols that have special meaning in html.Ensure chracter are rendered correctly.Special code to display reserved charecters.used to display invisible character.\n",
        "5 common entities;-\n",
        "* `&amp; for &`\n",
        "* `&lt; for <`\n",
        "* `&gt; for >`\n",
        "* `&quot; for \"`\n",
        "* `&apos; for '`"
      ],
      "metadata": {
        "id": "Zb0Wy1CQxnaQ"
      }
    },
    {
      "cell_type": "markdown",
      "source": [
        "3. Define accessibility in the context of web development. Discuss why it's essential to create accessible\n",
        "websites and how it benefits different user group.\n",
        "->Accessibility in Web Development\n",
        "\n",
        "Definition:\n",
        "Accessibility in web development refers to designing and building websites and web applications so that they can be used by everyone, including people with disabilities. This includes users who are visually, hearing, motor, or cognitively impaired. The goal is to ensure that all users can perceive, understand, navigate, and interact with web content effectively.\n",
        "\n",
        "Why It's Essential to Create Accessible Websites:\n",
        "\n",
        "* Inclusivity:\n",
        "It ensures equal access and opportunities for all users, regardless of their physical or cognitive abilities.\n",
        "\n",
        "* Legal Compliance:\n",
        "Many countries have laws (e.g., ADA in the U.S., RPwD Act in India) that mandate web accessibility for public and private sector websites.\n",
        "\n",
        "* Improved Usability:\n",
        "Accessible design often leads to better user experiences for all users, not just those with disabilities.\n",
        "\n",
        "* Better SEO:\n",
        "Search engines index content more effectively when websites follow accessibility best practices like semantic HTML and alternative text for images.\n",
        "\n",
        "* Expanded Audience Reach:\n",
        "By accommodating users with different needs, your website becomes usable to a larger audience, including elderly people and users on slow internet or outdated devices.\n",
        "\n",
        "| User Group                 | Accessibility Benefits                                              |\n",
        "| -------------------------- | ------------------------------------------------------------------- |\n",
        "| **Visually Impaired**      | Screen reader support, high-contrast modes, alt text for images     |\n",
        "| **Hearing Impaired**       | Captions for videos, transcripts for audio                          |\n",
        "| **Motor Impaired**         | Keyboard navigation, voice commands                                 |\n",
        "| **Cognitively Impaired**   | Clear layout, simple language, consistent navigation                |\n",
        "| **Temporary Disabilities** | Help for users with temporary issues like broken arms or eye strain |\n",
        "| **Elderly Users**          | Larger fonts, clear language, easy navigation                       |\n",
        "| **General Users**          | Faster load times, mobile-friendly design, better overall UX        |\n"
      ],
      "metadata": {
        "id": "7vjtxF5BLO_3"
      }
    },
    {
      "cell_type": "markdown",
      "source": [
        "4. List any 3 ways which help us in improving the accessibility of HTM1.\n",
        "->\n",
        "1. Use semantic html elements.\n",
        "2. Add alt text to images.\n",
        "3. ensure keyboard navigation."
      ],
      "metadata": {
        "id": "EillVx520cDk"
      }
    },
    {
      "cell_type": "markdown",
      "source": [
        "5. Create a web page that highlights the features of HTML5. Use appropriate semantic tags to structure the\n",
        "content and showcase at least three key features of HTML5 with explanations."
      ],
      "metadata": {
        "id": "XTSDhb0aNmpf"
      }
    },
    {
      "cell_type": "code",
      "source": [
        "<!DOCTYPE html>\n",
        "<html lang=\"en\">\n",
        "<head>\n",
        "  <meta charset=\"UTF-8\">\n",
        "  <title>HTML5 Features</title>\n",
        "</head>\n",
        "<body>\n",
        "\n",
        "  <header>\n",
        "    <h1>HTML5 Features</h1>\n",
        "    <p>Explore the powerful features introduced in HTML5.</p>\n",
        "  </header>\n",
        "\n",
        "  <main>\n",
        "    <section>\n",
        "      <h2>1. Semantic Elements</h2>\n",
        "      <p>HTML5 introduces semantic tags such as <code>&lt;header&gt;</code>, <code>&lt;footer&gt;</code>, <code>&lt;article&gt;</code>, and <code>&lt;section&gt;</code> to better define the structure of web content. These tags help both developers and browsers understand the layout and purpose of the content.</p>\n",
        "    </section>\n",
        "\n",
        "    <section>\n",
        "      <h2>2. Native Audio and Video</h2>\n",
        "      <p>HTML5 allows embedding audio and video directly into web pages using the <code>&lt;audio&gt;</code> and <code>&lt;video&gt;</code> tags without needing plugins like Flash.</p>\n",
        "      <video controls width=\"300\">\n",
        "        <source src=\"sample.mp4\" type=\"video/mp4\">\n",
        "        Your browser does not support the video tag.\n",
        "      </video>\n",
        "      <br>\n",
        "      <audio controls>\n",
        "        <source src=\"sample.mp3\" type=\"audio/mpeg\">\n",
        "        Your browser does not support the audio element.\n",
        "      </audio>\n",
        "    </section>\n",
        "\n",
        "    <section>\n",
        "      <h2>3. Canvas Element</h2>\n",
        "      <p>The <code>&lt;canvas&gt;</code> tag in HTML5 provides an area where you can draw graphics using JavaScript. It's useful for rendering charts, game graphics, and other visual content.</p>\n",
        "      <canvas width=\"300\" height=\"100\">Your browser does not support the canvas element.</canvas>\n",
        "    </section>\n",
        "  </main>\n",
        "\n",
        "  <footer>\n",
        "    <p>&copy; 2025 HTML5 Features Page</p>\n",
        "  </footer>\n",
        "\n",
        "</body>\n",
        "</html>\n"
      ],
      "metadata": {
        "id": "LzA6UKuFO-Oq"
      },
      "execution_count": null,
      "outputs": []
    },
    {
      "cell_type": "markdown",
      "source": [
        "6. Create a simple web page which has a table. The table must have 2 columns HTML and HTML5. The table should include a minimum of three rows describing the differences between HTML and HTML5."
      ],
      "metadata": {
        "id": "uNWBPncLO_Sl"
      }
    },
    {
      "cell_type": "code",
      "source": [
        "<!DOCTYPE html>\n",
        "<html lang=\"en\">\n",
        "<head>\n",
        "  <meta charset=\"UTF-8\">\n",
        "  <title>HTML vs HTML5</title>\n",
        "</head>\n",
        "<body>\n",
        "\n",
        "  <header>\n",
        "    <h1>Difference Between HTML and HTML5</h1>\n",
        "  </header>\n",
        "\n",
        "  <main>\n",
        "    <table border=\"1\">\n",
        "      <thead>\n",
        "        <tr>\n",
        "          <th>HTML</th>\n",
        "          <th>HTML5</th>\n",
        "        </tr>\n",
        "      </thead>\n",
        "      <tbody>\n",
        "        <tr>\n",
        "          <td>Does not support audio and video natively.</td>\n",
        "          <td>Supports native audio and video embedding using <code>&lt;audio&gt;</code> and <code>&lt;video&gt;</code> tags.</td>\n",
        "        </tr>\n",
        "        <tr>\n",
        "          <td>Uses generic tags like <code>&lt;div&gt;</code> and <code>&lt;span&gt;</code> for layout.</td>\n",
        "          <td>Introduces semantic tags like <code>&lt;header&gt;</code>, <code>&lt;footer&gt;</code>, <code>&lt;section&gt;</code>.</td>\n",
        "        </tr>\n",
        "        <tr>\n",
        "          <td>Requires third-party plugins (like Flash) for advanced features.</td>\n",
        "          <td>Has built-in APIs like Canvas, Geolocation, and Local Storage.</td>\n",
        "        </tr>\n",
        "      </tbody>\n",
        "    </table>\n",
        "  </main>\n",
        "\n",
        "  <footer>\n",
        "    <p>&copy; 2025 HTML Comparison Page</p>\n",
        "  </footer>\n",
        "\n",
        "</body>\n",
        "</html>\n"
      ],
      "metadata": {
        "id": "KDK4fbeQPU2d"
      },
      "execution_count": null,
      "outputs": []
    }
  ]
}